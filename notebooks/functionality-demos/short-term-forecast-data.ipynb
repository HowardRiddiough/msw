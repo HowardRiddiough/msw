{
 "cells": [
  {
   "cell_type": "markdown",
   "metadata": {},
   "source": [
    "# Downloading Magicseaweed forecast data \n",
    "\n",
    "- Date created: January 15th, 2019\n",
    "- created by: Howard Riddiough\n",
    "- date modified: \n",
    "- modified by:\n",
    "\n",
    "This notebook demos the functionality of `ShortTermForecastData`. Please note `ShortTermForecastData` inherits state\n",
    "from `LocationData`, see `location-data.ipynb` for more details. This notebook includes the following:\n",
    "\n",
    "- Downloading forecast data"
   ]
  },
  {
   "cell_type": "code",
   "execution_count": null,
   "metadata": {},
   "outputs": [],
   "source": [
    "from msw import ShortTermForecastData"
   ]
  },
  {
   "cell_type": "code",
   "execution_count": null,
   "metadata": {},
   "outputs": [],
   "source": [
    "forecasts = ShortTermForecastData()"
   ]
  },
  {
   "cell_type": "markdown",
   "metadata": {},
   "source": [
    "foercasts data can be accessed using the `data` property"
   ]
  },
  {
   "cell_type": "code",
   "execution_count": null,
   "metadata": {},
   "outputs": [],
   "source": [
    "forecasts.data.head()"
   ]
  },
  {
   "cell_type": "markdown",
   "metadata": {},
   "source": [
    "The rows of data in `forecasts.data` can be iterated over as follows"
   ]
  },
  {
   "cell_type": "code",
   "execution_count": null,
   "metadata": {},
   "outputs": [],
   "source": [
    "for row in forecasts:\n",
    "    if row.spot == \"Anchor Point\":\n",
    "        print(row.period)"
   ]
  }
 ],
 "metadata": {
  "kernelspec": {
   "display_name": "Python 3",
   "language": "python",
   "name": "python3"
  },
  "language_info": {
   "codemirror_mode": {
    "name": "ipython",
    "version": 3
   },
   "file_extension": ".py",
   "mimetype": "text/x-python",
   "name": "python",
   "nbconvert_exporter": "python",
   "pygments_lexer": "ipython3",
   "version": "3.7.0"
  }
 },
 "nbformat": 4,
 "nbformat_minor": 2
}
