{
 "cells": [
  {
   "cell_type": "markdown",
   "metadata": {},
   "source": [
    "# Visualisation of Magicseaweed forecast data \n",
    "\n",
    "- Date created: January 15th, 2019\n",
    "- created by: Howard Riddiough\n",
    "- date modified: \n",
    "- modified by:\n",
    "\n",
    "This notebook demos the functionality of `GeographicViz`. Please note `GeographicViz` inherits state\n",
    "from `ShortTermForecastData`, see `short-term-forecast-data.ipynb` for more details. This notebook includes \n",
    "the following:\n",
    "\n",
    "- Generation of forecast visualisation"
   ]
  },
  {
   "cell_type": "code",
   "execution_count": null,
   "metadata": {},
   "outputs": [],
   "source": [
    "from msw import GeographicViz"
   ]
  },
  {
   "cell_type": "markdown",
   "metadata": {},
   "source": [
    "Visuals are created as follows"
   ]
  },
  {
   "cell_type": "code",
   "execution_count": null,
   "metadata": {},
   "outputs": [],
   "source": [
    "viz = GeographicViz()"
   ]
  },
  {
   "cell_type": "markdown",
   "metadata": {},
   "source": [
    "The created folium map is contained in the `_geo_viz` property"
   ]
  },
  {
   "cell_type": "code",
   "execution_count": null,
   "metadata": {},
   "outputs": [],
   "source": [
    "viz._geo_viz"
   ]
  },
  {
   "cell_type": "markdown",
   "metadata": {},
   "source": [
    "The geographic visualisation of the surf forecast can be saved as a html as follows. Use the `open_in_browser` \n",
    "parameter to disable the visual being opened in a browser."
   ]
  },
  {
   "cell_type": "code",
   "execution_count": null,
   "metadata": {},
   "outputs": [],
   "source": [
    "viz.save_and_open(out_path=\"sample.html\", open_in_browser=False)"
   ]
  }
 ],
 "metadata": {
  "kernelspec": {
   "display_name": "Python 3",
   "language": "python",
   "name": "python3"
  },
  "language_info": {
   "codemirror_mode": {
    "name": "ipython",
    "version": 3
   },
   "file_extension": ".py",
   "mimetype": "text/x-python",
   "name": "python",
   "nbconvert_exporter": "python",
   "pygments_lexer": "ipython3",
   "version": "3.7.0"
  }
 },
 "nbformat": 4,
 "nbformat_minor": 2
}
