{
 "cells": [
  {
   "cell_type": "markdown",
   "metadata": {},
   "source": [
    "# Surf Spot Location Data\n",
    "\n",
    "- Date created: January 15th, 2019\n",
    "- created by: Howard Riddiough\n",
    "- date modified: \n",
    "- modified by:\n",
    "\n",
    "This notebook demos the functionality of `LocationData`, including:\n",
    "\n",
    "- Loading a sample surf spot data\n",
    "- Loading surf spot data from a pandas DataFrame"
   ]
  },
  {
   "cell_type": "code",
   "execution_count": null,
   "metadata": {},
   "outputs": [],
   "source": [
    "from msw import LocationData"
   ]
  },
  {
   "cell_type": "markdown",
   "metadata": {},
   "source": [
    "`msw` comes with some pre-loaded surf spot data, loading that data is easy"
   ]
  },
  {
   "cell_type": "code",
   "execution_count": null,
   "metadata": {},
   "outputs": [],
   "source": [
    "locs = LocationData()\n",
    "locs.data.head()"
   ]
  },
  {
   "cell_type": "markdown",
   "metadata": {},
   "source": [
    "The rows of data in `locs.data` can be iterated over as follows"
   ]
  },
  {
   "cell_type": "code",
   "execution_count": null,
   "metadata": {},
   "outputs": [],
   "source": [
    "for row in locs:\n",
    "    if row.spot == \"Anchor Point\":\n",
    "        print(row.spot_id)"
   ]
  },
  {
   "cell_type": "markdown",
   "metadata": {},
   "source": [
    "Custom data can be loaded into `LocationData` as follows"
   ]
  },
  {
   "cell_type": "code",
   "execution_count": null,
   "metadata": {},
   "outputs": [],
   "source": [
    "import pandas as pd\n",
    "\n",
    "custom_surf_spot_data = pd.DataFrame(\n",
    "    {\n",
    "        \"spot\": [\"Thurso\", \"Fistral\", \"Easkey\"],\n",
    "        \"longitude\": [58.60, 50.41, 54.29],\n",
    "        \"latitude\": [-3.51, -5.10, -8.95],\n",
    "        \"spot_id\": [47, 1, 1501]\n",
    "    }\n",
    ")\n",
    "\n",
    "custom_locs = LocationData(custom_surf_spot_data)\n",
    "custom_locs.data.head()"
   ]
  }
 ],
 "metadata": {
  "kernelspec": {
   "display_name": "Python 3",
   "language": "python",
   "name": "python3"
  },
  "language_info": {
   "codemirror_mode": {
    "name": "ipython",
    "version": 3
   },
   "file_extension": ".py",
   "mimetype": "text/x-python",
   "name": "python",
   "nbconvert_exporter": "python",
   "pygments_lexer": "ipython3",
   "version": "3.7.0"
  }
 },
 "nbformat": 4,
 "nbformat_minor": 2
}
